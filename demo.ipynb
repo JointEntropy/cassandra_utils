{
 "cells": [
  {
   "cell_type": "markdown",
   "id": "451e8e1f",
   "metadata": {},
   "source": [
    "https://github.com/JointEntropy/machine-learning-workshop-online/blob/master/jupyter/Collaborative%20Filtering.ipynb\n",
    "\n",
    "https://astra.datastax.com/284ba8db-af3b-491d-8955-b25f98923f7e"
   ]
  },
  {
   "cell_type": "code",
   "execution_count": 1,
   "id": "d2d318e8",
   "metadata": {},
   "outputs": [
    {
     "name": "stdout",
     "output_type": "stream",
     "text": [
      "3.25.0\r\n"
     ]
    }
   ],
   "source": [
    "!python -c 'import cassandra; print (cassandra.__version__)'"
   ]
  },
  {
   "cell_type": "code",
   "execution_count": 4,
   "id": "a170e5a6",
   "metadata": {},
   "outputs": [],
   "source": [
    "import os\n",
    "import pandas as pd\n",
    "\n",
    "token_sec_keys = pd.read_csv(os.path.join(CON_DATA_PATH, 'GeneratedToken.csv'))\\\n",
    "                    .to_dict('records')[0]"
   ]
  },
  {
   "cell_type": "code",
   "execution_count": 5,
   "id": "cdb4301f",
   "metadata": {},
   "outputs": [
    {
     "name": "stdout",
     "output_type": "stream",
     "text": [
      "4.0.0.6816\n"
     ]
    }
   ],
   "source": [
    "from cassandra.cluster import Cluster\n",
    "from cassandra.auth import PlainTextAuthProvider\n",
    "import os\n",
    "\n",
    "CON_DATA_PATH = '/home/grigory/personal/machine-learning-workshop-online/jupyter/'\n",
    "cloud_config= {\n",
    "        'secure_connect_bundle': os.path.join(CON_DATA_PATH, 'secure-connect-test-cassandra-db.zip')\n",
    "}\n",
    "auth_provider = PlainTextAuthProvider(token_sec_keys['Client Id'], token_sec_keys['Client Secret'])\n",
    "cluster = Cluster(cloud=cloud_config, auth_provider=auth_provider)\n",
    "session = cluster.connect()\n",
    "\n",
    "row = session.execute(\"select release_version from system.local\").one()\n",
    "if row:\n",
    "    print(row[0])\n",
    "else:\n",
    "    print(\"An error occurred.\")"
   ]
  },
  {
   "cell_type": "code",
   "execution_count": 6,
   "id": "435b39f8",
   "metadata": {},
   "outputs": [],
   "source": [
    "session.set_keyspace('start')"
   ]
  },
  {
   "cell_type": "code",
   "execution_count": 7,
   "id": "a74b5b22",
   "metadata": {},
   "outputs": [
    {
     "data": {
      "text/plain": [
       "<cassandra.cluster.ResultSet at 0x7f7480364bb0>"
      ]
     },
     "execution_count": 7,
     "metadata": {},
     "output_type": "execute_result"
    }
   ],
   "source": [
    "query = \"CREATE TABLE IF NOT EXISTS jokes \\\n",
    "                                    (userid int, jokeid int, rating float, \\\n",
    "                                     PRIMARY KEY (userid, jokeid))\"\n",
    "session.execute(query)"
   ]
  },
  {
   "cell_type": "code",
   "execution_count": 16,
   "id": "c235b2ed",
   "metadata": {},
   "outputs": [
    {
     "data": {
      "application/vnd.jupyter.widget-view+json": {
       "model_id": "d7bff9215d324ccb8310b308ee904368",
       "version_major": 2,
       "version_minor": 0
      },
      "text/plain": [
       "0it [00:00, ?it/s]"
      ]
     },
     "metadata": {},
     "output_type": "display_data"
    },
    {
     "ename": "KeyboardInterrupt",
     "evalue": "",
     "output_type": "error",
     "traceback": [
      "\u001b[0;31m---------------------------------------------------------------------------\u001b[0m",
      "\u001b[0;31mKeyboardInterrupt\u001b[0m                         Traceback (most recent call last)",
      "\u001b[0;32m/tmp/ipykernel_32605/207713173.py\u001b[0m in \u001b[0;36m<module>\u001b[0;34m\u001b[0m\n\u001b[1;32m      9\u001b[0m     \u001b[0mquery\u001b[0m \u001b[0;34m=\u001b[0m \u001b[0mquery\u001b[0m \u001b[0;34m+\u001b[0m \u001b[0;34m\"VALUES (%s, %s, %s)\"\u001b[0m\u001b[0;34m\u001b[0m\u001b[0;34m\u001b[0m\u001b[0m\n\u001b[1;32m     10\u001b[0m \u001b[0;34m\u001b[0m\u001b[0m\n\u001b[0;32m---> 11\u001b[0;31m     \u001b[0msession\u001b[0m\u001b[0;34m.\u001b[0m\u001b[0mexecute\u001b[0m\u001b[0;34m(\u001b[0m\u001b[0mquery\u001b[0m\u001b[0;34m,\u001b[0m \u001b[0;34m(\u001b[0m\u001b[0mint\u001b[0m\u001b[0;34m(\u001b[0m\u001b[0mjokeRow\u001b[0m\u001b[0;34m[\u001b[0m\u001b[0;36m0\u001b[0m\u001b[0;34m]\u001b[0m\u001b[0;34m)\u001b[0m\u001b[0;34m,\u001b[0m \u001b[0mint\u001b[0m\u001b[0;34m(\u001b[0m\u001b[0mjokeRow\u001b[0m\u001b[0;34m[\u001b[0m\u001b[0;36m1\u001b[0m\u001b[0;34m]\u001b[0m\u001b[0;34m)\u001b[0m \u001b[0;34m,\u001b[0m \u001b[0mfloat\u001b[0m\u001b[0;34m(\u001b[0m\u001b[0mjokeRow\u001b[0m\u001b[0;34m[\u001b[0m\u001b[0;36m2\u001b[0m\u001b[0;34m]\u001b[0m\u001b[0;34m)\u001b[0m \u001b[0;34m)\u001b[0m\u001b[0;34m)\u001b[0m\u001b[0;34m\u001b[0m\u001b[0;34m\u001b[0m\u001b[0m\n\u001b[0m",
      "\u001b[0;32m~/anaconda3/envs/research38/lib/python3.8/site-packages/cassandra/cluster.cpython-38-x86_64-linux-gnu.so\u001b[0m in \u001b[0;36mcassandra.cluster.Session.execute\u001b[0;34m()\u001b[0m\n",
      "\u001b[0;32m~/anaconda3/envs/research38/lib/python3.8/site-packages/cassandra/cluster.cpython-38-x86_64-linux-gnu.so\u001b[0m in \u001b[0;36mcassandra.cluster.ResponseFuture.result\u001b[0;34m()\u001b[0m\n",
      "\u001b[0;32m~/anaconda3/envs/research38/lib/python3.8/threading.py\u001b[0m in \u001b[0;36mwait\u001b[0;34m(self, timeout)\u001b[0m\n\u001b[1;32m    556\u001b[0m             \u001b[0msignaled\u001b[0m \u001b[0;34m=\u001b[0m \u001b[0mself\u001b[0m\u001b[0;34m.\u001b[0m\u001b[0m_flag\u001b[0m\u001b[0;34m\u001b[0m\u001b[0;34m\u001b[0m\u001b[0m\n\u001b[1;32m    557\u001b[0m             \u001b[0;32mif\u001b[0m \u001b[0;32mnot\u001b[0m \u001b[0msignaled\u001b[0m\u001b[0;34m:\u001b[0m\u001b[0;34m\u001b[0m\u001b[0;34m\u001b[0m\u001b[0m\n\u001b[0;32m--> 558\u001b[0;31m                 \u001b[0msignaled\u001b[0m \u001b[0;34m=\u001b[0m \u001b[0mself\u001b[0m\u001b[0;34m.\u001b[0m\u001b[0m_cond\u001b[0m\u001b[0;34m.\u001b[0m\u001b[0mwait\u001b[0m\u001b[0;34m(\u001b[0m\u001b[0mtimeout\u001b[0m\u001b[0;34m)\u001b[0m\u001b[0;34m\u001b[0m\u001b[0;34m\u001b[0m\u001b[0m\n\u001b[0m\u001b[1;32m    559\u001b[0m             \u001b[0;32mreturn\u001b[0m \u001b[0msignaled\u001b[0m\u001b[0;34m\u001b[0m\u001b[0;34m\u001b[0m\u001b[0m\n\u001b[1;32m    560\u001b[0m \u001b[0;34m\u001b[0m\u001b[0m\n",
      "\u001b[0;32m~/anaconda3/envs/research38/lib/python3.8/threading.py\u001b[0m in \u001b[0;36mwait\u001b[0;34m(self, timeout)\u001b[0m\n\u001b[1;32m    300\u001b[0m         \u001b[0;32mtry\u001b[0m\u001b[0;34m:\u001b[0m    \u001b[0;31m# restore state no matter what (e.g., KeyboardInterrupt)\u001b[0m\u001b[0;34m\u001b[0m\u001b[0;34m\u001b[0m\u001b[0m\n\u001b[1;32m    301\u001b[0m             \u001b[0;32mif\u001b[0m \u001b[0mtimeout\u001b[0m \u001b[0;32mis\u001b[0m \u001b[0;32mNone\u001b[0m\u001b[0;34m:\u001b[0m\u001b[0;34m\u001b[0m\u001b[0;34m\u001b[0m\u001b[0m\n\u001b[0;32m--> 302\u001b[0;31m                 \u001b[0mwaiter\u001b[0m\u001b[0;34m.\u001b[0m\u001b[0macquire\u001b[0m\u001b[0;34m(\u001b[0m\u001b[0;34m)\u001b[0m\u001b[0;34m\u001b[0m\u001b[0;34m\u001b[0m\u001b[0m\n\u001b[0m\u001b[1;32m    303\u001b[0m                 \u001b[0mgotit\u001b[0m \u001b[0;34m=\u001b[0m \u001b[0;32mTrue\u001b[0m\u001b[0;34m\u001b[0m\u001b[0;34m\u001b[0m\u001b[0m\n\u001b[1;32m    304\u001b[0m             \u001b[0;32melse\u001b[0m\u001b[0;34m:\u001b[0m\u001b[0;34m\u001b[0m\u001b[0;34m\u001b[0m\u001b[0m\n",
      "\u001b[0;31mKeyboardInterrupt\u001b[0m: "
     ]
    }
   ],
   "source": [
    "from tqdm.auto import tqdm\n",
    "fileName = '../machine-learning-workshop-online/jupyter/data/jester_ratings3.csv'\n",
    "input_file = open(fileName, 'r')\n",
    "\n",
    "for line in tqdm(input_file):\n",
    "    jokeRow = line.split(',')\n",
    "    query = \"INSERT INTO jokes (userid, jokeid, rating)\"\n",
    "    \n",
    "    query = query + \"VALUES (%s, %s, %s)\"\n",
    "    \n",
    "    session.execute(query, (int(jokeRow[0]), int(jokeRow[1]) , float(jokeRow[2]) ))"
   ]
  },
  {
   "cell_type": "code",
   "execution_count": 18,
   "id": "bc8dbaab",
   "metadata": {
    "scrolled": true
   },
   "outputs": [
    {
     "name": "stdout",
     "output_type": "stream",
     "text": [
      "1 5 0.21899999678134918\n",
      "1 7 -9.281000137329102\n",
      "1 8 -9.281000137329102\n",
      "1 13 -6.781000137329102\n",
      "1 15 0.875\n",
      "1 16 -9.656000137329102\n",
      "1 17 -9.031000137329102\n",
      "1 18 -7.468999862670898\n",
      "1 19 -8.718999862670898\n",
      "1 20 -9.156000137329102\n",
      "1 21 -7.188000202178955\n",
      "1 22 -8.781000137329102\n",
      "1 23 -8.531000137329102\n",
      "1 24 -7.906000137329102\n",
      "1 25 -7.468999862670898\n",
      "1 26 0.03099999949336052\n",
      "1 27 8.781000137329102\n",
      "1 29 8.781000137329102\n",
      "1 31 8.781000137329102\n",
      "1 32 8.781000137329102\n",
      "1 34 -0.25\n",
      "1 35 8.781000137329102\n",
      "1 36 8.781000137329102\n",
      "1 42 0.06199999898672104\n",
      "1 49 0.06199999898672104\n",
      "1 50 9.906000137329102\n",
      "1 51 0.06199999898672104\n",
      "1 52 0.06199999898672104\n",
      "1 53 8.781000137329102\n",
      "1 54 8.687999725341797\n",
      "1 61 0.03099999949336052\n",
      "1 62 0.21899999678134918\n",
      "1 65 8.781000137329102\n",
      "1 66 8.687999725341797\n",
      "1 68 -0.125\n",
      "1 69 8.687999725341797\n",
      "1 72 8.781000137329102\n",
      "1 76 9.312000274658203\n",
      "1 80 0.06199999898672104\n",
      "1 81 0.125\n",
      "1 83 8.781000137329102\n",
      "1 87 8.0\n",
      "1 89 9.812000274658203\n",
      "1 91 8.781000137329102\n",
      "1 92 3.625\n",
      "1 93 9.312000274658203\n",
      "1 102 0.75\n",
      "1 103 -5.0\n",
      "1 104 2.937999963760376\n",
      "1 105 2.0\n",
      "1 106 -0.15600000321865082\n",
      "1 107 2.0309998989105225\n",
      "1 108 5.688000202178955\n",
      "1 109 9.656000137329102\n",
      "1 118 0.0\n",
      "1 119 8.781000137329102\n",
      "1 120 8.781000137329102\n",
      "1 121 8.781000137329102\n",
      "1 123 8.781000137329102\n",
      "1 127 8.687999725341797\n",
      "1 128 0.0\n",
      "1 134 3.3440001010894775\n"
     ]
    }
   ],
   "source": [
    "query = 'SELECT * FROM jokes WHERE userid = 1'\n",
    "rows = session.execute(query)\n",
    "for row in rows:\n",
    "    print (row.userid, row.jokeid, row.rating)"
   ]
  }
 ],
 "metadata": {
  "kernelspec": {
   "display_name": "Python 3 (ipykernel)",
   "language": "python",
   "name": "python3"
  },
  "language_info": {
   "codemirror_mode": {
    "name": "ipython",
    "version": 3
   },
   "file_extension": ".py",
   "mimetype": "text/x-python",
   "name": "python",
   "nbconvert_exporter": "python",
   "pygments_lexer": "ipython3",
   "version": "3.8.0"
  },
  "toc": {
   "base_numbering": 1,
   "nav_menu": {},
   "number_sections": true,
   "sideBar": true,
   "skip_h1_title": false,
   "title_cell": "Table of Contents",
   "title_sidebar": "Contents",
   "toc_cell": false,
   "toc_position": {},
   "toc_section_display": true,
   "toc_window_display": false
  }
 },
 "nbformat": 4,
 "nbformat_minor": 5
}
