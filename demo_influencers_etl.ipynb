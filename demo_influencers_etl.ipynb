{
 "cells": [
  {
   "cell_type": "code",
   "execution_count": 5,
   "id": "34cbd990",
   "metadata": {},
   "outputs": [],
   "source": [
    "%load_ext autoreload\n",
    "%autoreload 2"
   ]
  },
  {
   "cell_type": "markdown",
   "id": "451e8e1f",
   "metadata": {},
   "source": [
    "# Look at this\n",
    "\n",
    "=>  https://astra.datastax.com/org/284ba8db-af3b-491d-8955-b25f98923f7e/database/643b6819-50c0-43c9-a94c-ef3d85c64da4/connect"
   ]
  },
  {
   "cell_type": "code",
   "execution_count": 6,
   "id": "d2d318e8",
   "metadata": {},
   "outputs": [
    {
     "name": "stdout",
     "output_type": "stream",
     "text": [
      "3.25.0\r\n"
     ]
    }
   ],
   "source": [
    "!python -c 'import cassandra; print (cassandra.__version__)'"
   ]
  },
  {
   "cell_type": "code",
   "execution_count": 8,
   "id": "bcfbec1b",
   "metadata": {},
   "outputs": [
    {
     "name": "stdout",
     "output_type": "stream",
     "text": [
      "4.0.0.6816\n"
     ]
    }
   ],
   "source": [
    "from connection import spawn_session, simple_session_test\n",
    "session = spawn_session(\n",
    "    bundle_path='secure-connect-influencers.zip',\n",
    "    tokens_path='influencers-token.json'\n",
    ")\n",
    "simple_session_test(session)"
   ]
  },
  {
   "cell_type": "code",
   "execution_count": 162,
   "id": "90915de6",
   "metadata": {},
   "outputs": [
    {
     "data": {
      "text/plain": [
       "cassandra.cluster.Session"
      ]
     },
     "execution_count": 162,
     "metadata": {},
     "output_type": "execute_result"
    }
   ],
   "source": [
    "type(session)"
   ]
  },
  {
   "cell_type": "code",
   "execution_count": 9,
   "id": "435b39f8",
   "metadata": {},
   "outputs": [],
   "source": [
    "session.set_keyspace('scraping_etl')"
   ]
  },
  {
   "cell_type": "markdown",
   "id": "b29b5cd9",
   "metadata": {},
   "source": [
    "создаём таблицу для хранения логов"
   ]
  },
  {
   "cell_type": "code",
   "execution_count": 167,
   "id": "a74b5b22",
   "metadata": {},
   "outputs": [
    {
     "data": {
      "text/plain": [
       "<cassandra.cluster.ResultSet at 0x7f06a98d9c10>"
      ]
     },
     "execution_count": 167,
     "metadata": {},
     "output_type": "execute_result"
    }
   ],
   "source": [
    "query = \"\"\"\n",
    "CREATE TABLE IF NOT EXISTS exploring_logs\n",
    "(\n",
    "    log_date date, \n",
    "    relevance_entry boolean,\n",
    "    create_ts timestamp, \n",
    "    video_id text, \n",
    "    related text, \n",
    "    content text,\n",
    "    PRIMARY KEY (log_date, relevance_entry, video_id)\n",
    ");\n",
    "\"\"\"\n",
    "# query = \"\"\"\n",
    "# DROP TABLE exploring_logs\n",
    "# \"\"\"\n",
    "session.execute(query)"
   ]
  },
  {
   "cell_type": "code",
   "execution_count": 209,
   "id": "3d9ca42d",
   "metadata": {},
   "outputs": [
    {
     "data": {
      "application/vnd.jupyter.widget-view+json": {
       "model_id": "be1624dded154a56a9762c14ef7e2c93",
       "version_major": 2,
       "version_minor": 0
      },
      "text/plain": [
       "0it [00:00, ?it/s]"
      ]
     },
     "metadata": {},
     "output_type": "display_data"
    }
   ],
   "source": [
    "from tqdm.auto import tqdm\n",
    "import json\n",
    "from datetime import datetime\n",
    "from cassandra.encoder import cql_quote\n",
    "from cassandra.cluster import Session\n",
    "from typing import List, Dict\n",
    "\n",
    "\n",
    "\n",
    "def jsonl_feed_iter(fp):\n",
    "    with open(fp, 'r') as f:\n",
    "        for line in f:\n",
    "            line = line.strip(']').strip('[').strip(',')\n",
    "            yield json.loads(line)\n",
    "\n",
    "def process_item(item, log_date, table_name):\n",
    "    query = f\"INSERT INTO {table_name} (log_date, relevance_entry, create_ts, video_id, related, content)\"    \n",
    "    query = query + \" VALUES (%s, %s, %s, %s,  %s,  %s);\"\n",
    "    items = [\n",
    "        log_date,\n",
    "        'related' in item,\n",
    "        str(int(datetime.utcnow().timestamp()*1000)), \n",
    "        item['video_id'], \n",
    "        str(item.get('related', [])), str(item.get('data', ''))\n",
    "    ]\n",
    "    return query, items\n",
    "\n",
    "def batch_upload(session: Session, items: List[Dict], batch_size: int=3000):\n",
    "    \"\"\"\n",
    "    Загружать батчи не убедивись что грузим только один parttion key некорректно.\n",
    "    Детали тут\n",
    "    https://docs.datastax.com/en/archived/cql/3.1/cql/cql_using/useBatch.html\n",
    "    \n",
    "    Вероятно нужно просто перейти на асинхронную запись.\n",
    "    \"\"\"\n",
    "    def construct_batch(insert_statements):\n",
    "        return 'BEGIN BATCH\\n'+'\\n'.join(insert_statements)+'APPLY BATCH;'\n",
    "    items_batch = []\n",
    "    for item in tqdm(items):\n",
    "        query, item_entries = process_item(item, log_date='2021-07-14', table_name='exploring_logs')\n",
    "        insert_statement = query % tuple((cql_quote(c) for c in item_entries))    \n",
    "        if len(items_batch) < batch_size:\n",
    "            items_batch.append(insert_statement)\n",
    "        else:\n",
    "            session.execute(construct_batch(items_batch))\n",
    "            items_batch = []\n",
    "        #     session.execute(query, tuple(item_entries))\n",
    "    if len(items_batch):\n",
    "        session.execute(construct_batch(items_batch))\n",
    "\n",
    "feed_path = 'feed_2021_07_14.jsonl'\n",
    "items = jsonl_feed_iter(feed_path)\n",
    "batch_upload(session, items, batch_size=200)"
   ]
  },
  {
   "cell_type": "markdown",
   "id": "f88d302c",
   "metadata": {},
   "source": [
    "Read data"
   ]
  },
  {
   "cell_type": "code",
   "execution_count": 210,
   "id": "bc8dbaab",
   "metadata": {
    "scrolled": true
   },
   "outputs": [
    {
     "data": {
      "application/vnd.jupyter.widget-view+json": {
       "model_id": "8b3eecad5d924966bc5a31963626ac89",
       "version_major": 2,
       "version_minor": 0
      },
      "text/plain": [
       "0it [00:00, ?it/s]"
      ]
     },
     "metadata": {},
     "output_type": "display_data"
    }
   ],
   "source": [
    "query = 'SELECT * FROM exploring_logs WHERE log_date=\\'2021-07-14\\''\n",
    "rows = session.execute(query)\n",
    "results = []\n",
    "for i, row in enumerate(tqdm(rows)):\n",
    "    results.append(row)\n",
    "output_df = pd.DataFrame(results)"
   ]
  },
  {
   "cell_type": "code",
   "execution_count": 211,
   "id": "42774850",
   "metadata": {},
   "outputs": [],
   "source": [
    "import pandas as pd\n",
    "items = jsonl_feed_iter(feed_path)\n",
    "input_df = pd.DataFrame(list(items))"
   ]
  },
  {
   "cell_type": "code",
   "execution_count": 212,
   "id": "020f1baf",
   "metadata": {},
   "outputs": [],
   "source": [
    "a = set(output_df['video_id'])\n",
    "b = set(input_df['video_id'])"
   ]
  },
  {
   "cell_type": "code",
   "execution_count": 213,
   "id": "2e1dfe19",
   "metadata": {},
   "outputs": [
    {
     "data": {
      "text/plain": [
       "(17865, 17865, 17865)"
      ]
     },
     "execution_count": 213,
     "metadata": {},
     "output_type": "execute_result"
    }
   ],
   "source": [
    "len(a), len(b), len(a & b)"
   ]
  },
  {
   "cell_type": "code",
   "execution_count": 205,
   "id": "7f729758",
   "metadata": {},
   "outputs": [
    {
     "data": {
      "text/html": [
       "<div>\n",
       "<style scoped>\n",
       "    .dataframe tbody tr th:only-of-type {\n",
       "        vertical-align: middle;\n",
       "    }\n",
       "\n",
       "    .dataframe tbody tr th {\n",
       "        vertical-align: top;\n",
       "    }\n",
       "\n",
       "    .dataframe thead th {\n",
       "        text-align: right;\n",
       "    }\n",
       "</style>\n",
       "<table border=\"1\" class=\"dataframe\">\n",
       "  <thead>\n",
       "    <tr style=\"text-align: right;\">\n",
       "      <th></th>\n",
       "      <th>video_id</th>\n",
       "      <th>related</th>\n",
       "      <th>data</th>\n",
       "    </tr>\n",
       "  </thead>\n",
       "  <tbody>\n",
       "    <tr>\n",
       "      <th>4645</th>\n",
       "      <td>rdU6wDzG6nk</td>\n",
       "      <td>NaN</td>\n",
       "      <td>{'snippet': {'publishedAt': '2021-10-09T12:02:...</td>\n",
       "    </tr>\n",
       "  </tbody>\n",
       "</table>\n",
       "</div>"
      ],
      "text/plain": [
       "         video_id related                                               data\n",
       "4645  rdU6wDzG6nk     NaN  {'snippet': {'publishedAt': '2021-10-09T12:02:..."
      ]
     },
     "execution_count": 205,
     "metadata": {},
     "output_type": "execute_result"
    }
   ],
   "source": [
    "input_df[input_df['video_id']==list(b - a)[5]]"
   ]
  },
  {
   "cell_type": "code",
   "execution_count": 189,
   "id": "f7c4792e",
   "metadata": {},
   "outputs": [
    {
     "data": {
      "text/plain": [
       "'c-CpwuM_foc'"
      ]
     },
     "execution_count": 189,
     "metadata": {},
     "output_type": "execute_result"
    }
   ],
   "source": []
  }
 ],
 "metadata": {
  "kernelspec": {
   "display_name": "Python 3 (ipykernel)",
   "language": "python",
   "name": "python3"
  },
  "language_info": {
   "codemirror_mode": {
    "name": "ipython",
    "version": 3
   },
   "file_extension": ".py",
   "mimetype": "text/x-python",
   "name": "python",
   "nbconvert_exporter": "python",
   "pygments_lexer": "ipython3",
   "version": "3.8.0"
  },
  "toc": {
   "base_numbering": 1,
   "nav_menu": {},
   "number_sections": true,
   "sideBar": true,
   "skip_h1_title": false,
   "title_cell": "Table of Contents",
   "title_sidebar": "Contents",
   "toc_cell": false,
   "toc_position": {},
   "toc_section_display": true,
   "toc_window_display": false
  }
 },
 "nbformat": 4,
 "nbformat_minor": 5
}
